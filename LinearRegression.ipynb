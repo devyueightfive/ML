{
 "cells": [
  {
   "cell_type": "code",
   "execution_count": 1,
   "metadata": {
    "pycharm": {}
   },
   "outputs": [
    {
     "data": {
      "image/png": "[encoded data removed]",
      "text/plain": [
       "<Figure size 432x288 with 1 Axes>"
      ]
     },
     "metadata": {
      "needs_background": "light"
     },
     "output_type": "display_data"
    }
   ],
   "source": [
    "#imports and prepares\n",
    "import numpy as np\n",
    "import matplotlib.pyplot as plt\n",
    "# magic command\n",
    "%matplotlib inline\n",
    "plt.close('all')\n",
    "import pandas as pd\n",
    "import sklearn.linear_model\n",
    "\n",
    "# size of sample\n",
    "n = 20\n",
    "\n",
    "mu = 0\n",
    "sigma = 80\n",
    "# error belongs to N(mu,sigma^2)\n",
    "error =mu+sigma*np.random.randn(n)\n",
    "# show error distribution in hist\n",
    "de = pd.DataFrame({'error':error},columns=['error'])\n",
    "de.plot.hist(alpha= 0.5,bins =20,color = 'k',title = \"ERROR\")\n",
    "plt.show()\n",
    "\n"
   ]
  },
  {
   "cell_type": "code",
   "execution_count": 2,
   "metadata": {
    "pycharm": {}
   },
   "outputs": [
    {
     "name": "stdout",
     "output_type": "stream",
     "text": [
      "The order is: 4*x+-80\n"
     ]
    },
    {
     "data": {
      "text/html": [
       "<div>\n",
       "<style scoped>\n",
       "    .dataframe tbody tr th:only-of-type {\n",
       "        vertical-align: middle;\n",
       "    }\n",
       "\n",
       "    .dataframe tbody tr th {\n",
       "        vertical-align: top;\n",
       "    }\n",
       "\n",
       "    .dataframe thead th {\n",
       "        text-align: right;\n",
       "    }\n",
       "</style>\n",
       "<table border=\"1\" class=\"dataframe\">\n",
       "  <thead>\n",
       "    <tr style=\"text-align: right;\">\n",
       "      <th></th>\n",
       "      <th>Y</th>\n",
       "      <th>X</th>\n",
       "    </tr>\n",
       "  </thead>\n",
       "  <tbody>\n",
       "    <tr>\n",
       "      <th>0</th>\n",
       "      <td>194.180574</td>\n",
       "      <td>68.545143</td>\n",
       "    </tr>\n",
       "    <tr>\n",
       "      <th>1</th>\n",
       "      <td>248.411040</td>\n",
       "      <td>82.102760</td>\n",
       "    </tr>\n",
       "    <tr>\n",
       "      <th>2</th>\n",
       "      <td>36.433470</td>\n",
       "      <td>29.108367</td>\n",
       "    </tr>\n",
       "    <tr>\n",
       "      <th>3</th>\n",
       "      <td>40.173700</td>\n",
       "      <td>30.043425</td>\n",
       "    </tr>\n",
       "    <tr>\n",
       "      <th>4</th>\n",
       "      <td>8.200296</td>\n",
       "      <td>22.050074</td>\n",
       "    </tr>\n",
       "    <tr>\n",
       "      <th>5</th>\n",
       "      <td>15.938631</td>\n",
       "      <td>23.984658</td>\n",
       "    </tr>\n",
       "    <tr>\n",
       "      <th>6</th>\n",
       "      <td>118.044849</td>\n",
       "      <td>49.511212</td>\n",
       "    </tr>\n",
       "    <tr>\n",
       "      <th>7</th>\n",
       "      <td>269.981684</td>\n",
       "      <td>87.495421</td>\n",
       "    </tr>\n",
       "    <tr>\n",
       "      <th>8</th>\n",
       "      <td>291.239536</td>\n",
       "      <td>92.809884</td>\n",
       "    </tr>\n",
       "    <tr>\n",
       "      <th>9</th>\n",
       "      <td>301.181414</td>\n",
       "      <td>95.295354</td>\n",
       "    </tr>\n",
       "    <tr>\n",
       "      <th>10</th>\n",
       "      <td>84.524597</td>\n",
       "      <td>41.131149</td>\n",
       "    </tr>\n",
       "    <tr>\n",
       "      <th>11</th>\n",
       "      <td>258.536973</td>\n",
       "      <td>84.634243</td>\n",
       "    </tr>\n",
       "    <tr>\n",
       "      <th>12</th>\n",
       "      <td>153.304585</td>\n",
       "      <td>58.326146</td>\n",
       "    </tr>\n",
       "    <tr>\n",
       "      <th>13</th>\n",
       "      <td>110.755058</td>\n",
       "      <td>47.688765</td>\n",
       "    </tr>\n",
       "    <tr>\n",
       "      <th>14</th>\n",
       "      <td>77.067462</td>\n",
       "      <td>39.266865</td>\n",
       "    </tr>\n",
       "    <tr>\n",
       "      <th>15</th>\n",
       "      <td>106.392388</td>\n",
       "      <td>46.598097</td>\n",
       "    </tr>\n",
       "    <tr>\n",
       "      <th>16</th>\n",
       "      <td>66.970555</td>\n",
       "      <td>36.742639</td>\n",
       "    </tr>\n",
       "    <tr>\n",
       "      <th>17</th>\n",
       "      <td>155.411558</td>\n",
       "      <td>58.852890</td>\n",
       "    </tr>\n",
       "    <tr>\n",
       "      <th>18</th>\n",
       "      <td>220.456374</td>\n",
       "      <td>75.114093</td>\n",
       "    </tr>\n",
       "    <tr>\n",
       "      <th>19</th>\n",
       "      <td>177.793240</td>\n",
       "      <td>64.448310</td>\n",
       "    </tr>\n",
       "  </tbody>\n",
       "</table>\n",
       "</div>"
      ],
      "text/plain": [
       "             Y          X\n",
       "0   194.180574  68.545143\n",
       "1   248.411040  82.102760\n",
       "2    36.433470  29.108367\n",
       "3    40.173700  30.043425\n",
       "4     8.200296  22.050074\n",
       "5    15.938631  23.984658\n",
       "6   118.044849  49.511212\n",
       "7   269.981684  87.495421\n",
       "8   291.239536  92.809884\n",
       "9   301.181414  95.295354\n",
       "10   84.524597  41.131149\n",
       "11  258.536973  84.634243\n",
       "12  153.304585  58.326146\n",
       "13  110.755058  47.688765\n",
       "14   77.067462  39.266865\n",
       "15  106.392388  46.598097\n",
       "16   66.970555  36.742639\n",
       "17  155.411558  58.852890\n",
       "18  220.456374  75.114093\n",
       "19  177.793240  64.448310"
      ]
     },
     "execution_count": 2,
     "metadata": {},
     "output_type": "execute_result"
    }
   ],
   "source": [
    "\n",
    "a=20\n",
    "b=100\n",
    "# linear sample on [a;b]\n",
    "x = a+np.random.rand(n)*(b-a)\n",
    "k = 4\n",
    "c= -80\n",
    "print(\"The order is: \"+str(k)+\"*x+\"+str(c))\n",
    "y = k*x+c\n",
    "df = pd.DataFrame(data = {'Y':y,'X':x}, columns = ['Y','X'])\n",
    "df"
   ]
  },
  {
   "cell_type": "code",
   "execution_count": 3,
   "metadata": {},
   "outputs": [
    {
     "data": {
      "image/png": "[encoded data removed]",
      "text/plain": [
       "<Figure size 432x288 with 1 Axes>"
      ]
     },
     "metadata": {
      "needs_background": "light"
     },
     "output_type": "display_data"
    }
   ],
   "source": [
    "# linear sample with error\n",
    "lin_x = df.plot.scatter(x='X',y='Y',title = \"ORDER\",color = \"green\",label = \"order\")\n",
    "z=y+error\n",
    "dfn = pd.DataFrame(data = {'Y':z,'X':x}, columns = ['Y','X'])\n",
    "sample = dfn.plot.scatter(x='X',y='Y',title = \"SAMPLE\",color = \"red\",label = \"sample\",ax=lin_x)\n",
    "plt.show()\n"
   ]
  },
  {
   "cell_type": "code",
   "execution_count": 12,
   "metadata": {
    "scrolled": true
   },
   "outputs": [
    {
     "data": {
      "text/plain": [
       "array([[ 1.        , 68.54514346],\n",
       "       [ 1.        , 82.10276011],\n",
       "       [ 1.        , 29.10836743],\n",
       "       [ 1.        , 30.04342497],\n",
       "       [ 1.        , 22.05007412],\n",
       "       [ 1.        , 23.98465785],\n",
       "       [ 1.        , 49.51121223],\n",
       "       [ 1.        , 87.49542108],\n",
       "       [ 1.        , 92.80988388],\n",
       "       [ 1.        , 95.29535352],\n",
       "       [ 1.        , 41.13114913],\n",
       "       [ 1.        , 84.63424322],\n",
       "       [ 1.        , 58.32614637],\n",
       "       [ 1.        , 47.68876461],\n",
       "       [ 1.        , 39.26686546],\n",
       "       [ 1.        , 46.59809703],\n",
       "       [ 1.        , 36.74263869],\n",
       "       [ 1.        , 58.85288957],\n",
       "       [ 1.        , 75.1140934 ],\n",
       "       [ 1.        , 64.44831006]])"
      ]
     },
     "execution_count": 12,
     "metadata": {},
     "output_type": "execute_result"
    }
   ],
   "source": [
    "# theta_predict = (X^T*X)^(-1)*X^T*Y\n",
    "X = np.array(x).reshape((n,1))\n",
    "Y = np.array(z).reshape((n,1))\n",
    "Xb = np.c_[np.ones((n,1)),X]\n",
    "Xb"
   ]
  },
  {
   "cell_type": "code",
   "execution_count": 10,
   "metadata": {},
   "outputs": [
    {
     "data": {
      "text/plain": [
       "array([[2.00000000e+01, 1.13374950e+03],\n",
       "       [1.13374950e+03, 7.49059111e+04]])"
      ]
     },
     "execution_count": 10,
     "metadata": {},
     "output_type": "execute_result"
    }
   ],
   "source": [
    "Xb.T.dot(Xb)"
   ]
  },
  {
   "cell_type": "code",
   "execution_count": 14,
   "metadata": {},
   "outputs": [
    {
     "name": "stdout",
     "output_type": "stream",
     "text": [
      "Predicted Theta by minimizing MSE(Mean Square Error):\n",
      "\n"
     ]
    },
    {
     "data": {
      "text/plain": [
       "array([[-101.16558727],\n",
       "       [   4.20206264]])"
      ]
     },
     "execution_count": 14,
     "metadata": {},
     "output_type": "execute_result"
    }
   ],
   "source": [
    "theta = np.linalg.inv(Xb.T.dot(Xb)).dot(Xb.T).dot(Y)\n",
    "print(\"Predicted Theta by minimizing MSE(Mean Square Error):\\n\")\n",
    "theta"
   ]
  },
  {
   "cell_type": "code",
   "execution_count": 15,
   "metadata": {},
   "outputs": [
    {
     "name": "stdout",
     "output_type": "stream",
     "text": [
      "Linear Regression Model Coefs: 4.202062640526299 -101.16558726865489\n",
      "The score is:  0.7675001465070285\n"
     ]
    }
   ],
   "source": [
    "# _______________________________________________________________________\n",
    "# Linear model\n",
    "model = sklearn.linear_model.LinearRegression()\n",
    "# train the model\n",
    "model.fit(X, Y)\n",
    "print(\"Linear Regression Model Coefs:\",model.coef_[0][0],model.intercept_[0])\n",
    "print(\"The score is: \",model.score(X,Y))\n"
   ]
  },
  {
   "cell_type": "code",
   "execution_count": 6,
   "metadata": {},
   "outputs": [
    {
     "data": {
      "image/png": "[encoded data removed]",
      "text/plain": [
       "<Figure size 432x288 with 1 Axes>"
      ]
     },
     "metadata": {
      "needs_background": "light"
     },
     "output_type": "display_data"
    }
   ],
   "source": [
    "A = np.linspace(0,120,120)\n",
    "plt.plot(A, model.intercept_[0] + model.coef_[0][0] * A,\"b--\",label = \"linear regression\")\n",
    "plt.plot(x,z,\"ro\",label = \"sample\")\n",
    "plt.legend(loc=\"lower right\")\n",
    "plt.show()"
   ]
  },
  {
   "cell_type": "code",
   "execution_count": 7,
   "metadata": {},
   "outputs": [
    {
     "name": "stdout",
     "output_type": "stream",
     "text": [
      "Ridge Model Coefs:\n",
      " 4.20166761757088 -101.14319441482024\n",
      "The score is:  0.767500139724399\n"
     ]
    }
   ],
   "source": [
    "# \n",
    "# Ridge model\n",
    "ridge = sklearn.linear_model.Ridge()\n",
    "# train the model\n",
    "ridge.fit(X, Y)\n",
    "print(\"Ridge Model Coefs:\",ridge.coef_[0][0],ridge.intercept_[0])\n",
    "print(\"The score is: \",ridge.score(X,Y))\n"
   ]
  },
  {
   "cell_type": "code",
   "execution_count": 8,
   "metadata": {},
   "outputs": [
    {
     "data": {
      "image/png": "[encoded data removed]",
      "text/plain": [
       "<Figure size 432x288 with 1 Axes>"
      ]
     },
     "metadata": {
      "needs_background": "light"
     },
     "output_type": "display_data"
    }
   ],
   "source": [
    "plt.figure()\n",
    "B = np.linspace(a,b,120)\n",
    "plt.plot(B, ridge.intercept_[0] + ridge.coef_[0][0] * B,\"b--\",label = \"ridge\")\n",
    "plt.plot(x,z,\"ro\",label = \"sample\")\n",
    "plt.legend(loc=\"lower right\")\n",
    "\n",
    "# ________________________________________________________________________\n",
    "# annotation\n",
    "text_annot = {\n",
    "    'A':(a,200),\n",
    "    'B':(b,150)\n",
    "}\n",
    "for annot_label,pos in text_annot.items():\n",
    "    posX,posY = pos[0],ridge.predict([[pos[0]]])\n",
    "    plt.annotate(annot_label,(posX,posY),pos,\n",
    "                 arrowprops=dict(facecolor='black', width=0.5, shrink=0.1, headwidth=5))\n",
    "\n",
    "plt.show()"
   ]
  }
 ],
 "metadata": {
  "kernelspec": {
   "display_name": "Python 3",
   "language": "python",
   "name": "python3"
  },
  "language_info": {
   "codemirror_mode": {
    "name": "ipython",
    "version": 3
   },
   "file_extension": ".py",
   "mimetype": "text/x-python",
   "name": "python",
   "nbconvert_exporter": "python",
   "pygments_lexer": "ipython3",
   "version": "3.6.7"
  }
 },
 "nbformat": 4,
 "nbformat_minor": 2
}
